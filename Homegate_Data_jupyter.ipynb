{
 "cells": [
  {
   "cell_type": "markdown",
   "id": "ec463c18",
   "metadata": {},
   "source": [
    "# Data Analysis"
   ]
  },
  {
   "cell_type": "code",
   "execution_count": 50,
   "id": "c0f6d6ba",
   "metadata": {
    "tags": []
   },
   "outputs": [],
   "source": [
    "import pandas as pd\n",
    "# Read data from .csv file\n",
    "df = pd.read_csv('Zurich.csv')"
   ]
  },
  {
   "cell_type": "code",
   "execution_count": 51,
   "id": "a81b56dc",
   "metadata": {
    "tags": []
   },
   "outputs": [
    {
     "data": {
      "text/plain": [
       "price      object\n",
       "size       object\n",
       "rooms      object\n",
       "address    object\n",
       "dtype: object"
      ]
     },
     "execution_count": 51,
     "metadata": {},
     "output_type": "execute_result"
    }
   ],
   "source": [
    "df.dtypes"
   ]
  },
  {
   "cell_type": "code",
   "execution_count": 52,
   "id": "38aac515",
   "metadata": {
    "tags": []
   },
   "outputs": [
    {
     "data": {
      "text/html": [
       "<div>\n",
       "<style scoped>\n",
       "    .dataframe tbody tr th:only-of-type {\n",
       "        vertical-align: middle;\n",
       "    }\n",
       "\n",
       "    .dataframe tbody tr th {\n",
       "        vertical-align: top;\n",
       "    }\n",
       "\n",
       "    .dataframe thead th {\n",
       "        text-align: right;\n",
       "    }\n",
       "</style>\n",
       "<table border=\"1\" class=\"dataframe\">\n",
       "  <thead>\n",
       "    <tr style=\"text-align: right;\">\n",
       "      <th></th>\n",
       "      <th>price</th>\n",
       "      <th>size</th>\n",
       "      <th>rooms</th>\n",
       "      <th>address</th>\n",
       "    </tr>\n",
       "  </thead>\n",
       "  <tbody>\n",
       "    <tr>\n",
       "      <th>0</th>\n",
       "      <td>CHF 3,110.– / month</td>\n",
       "      <td>96m² living space</td>\n",
       "      <td>4.5 rooms</td>\n",
       "      <td>Rennweg 30, 8001 Zürich</td>\n",
       "    </tr>\n",
       "    <tr>\n",
       "      <th>1</th>\n",
       "      <td>CHF 6,210.– / month</td>\n",
       "      <td>140m² living space</td>\n",
       "      <td>5.5 rooms</td>\n",
       "      <td>Bellariastrasse 56, 8038 Zürich</td>\n",
       "    </tr>\n",
       "    <tr>\n",
       "      <th>2</th>\n",
       "      <td>CHF 5,440.– / month</td>\n",
       "      <td>156m² living space</td>\n",
       "      <td>5.5 rooms</td>\n",
       "      <td>Kleinertstrasse 2, 8037 Zürich</td>\n",
       "    </tr>\n",
       "    <tr>\n",
       "      <th>3</th>\n",
       "      <td>CHF 1,820.– / month</td>\n",
       "      <td>48m² living space</td>\n",
       "      <td>3.5 rooms</td>\n",
       "      <td>Langmauerstrasse 25, 8006 Zürich</td>\n",
       "    </tr>\n",
       "    <tr>\n",
       "      <th>4</th>\n",
       "      <td>CHF 2,520.– / month</td>\n",
       "      <td>58m² living space</td>\n",
       "      <td>3 rooms</td>\n",
       "      <td>Hohlstrasse 486, 8048 Zürich</td>\n",
       "    </tr>\n",
       "  </tbody>\n",
       "</table>\n",
       "</div>"
      ],
      "text/plain": [
       "                  price                 size       rooms  \\\n",
       "0   CHF 3,110.– / month   96m² living space   4.5 rooms    \n",
       "1   CHF 6,210.– / month  140m² living space   5.5 rooms    \n",
       "2   CHF 5,440.– / month  156m² living space   5.5 rooms    \n",
       "3   CHF 1,820.– / month   48m² living space   3.5 rooms    \n",
       "4   CHF 2,520.– / month   58m² living space     3 rooms    \n",
       "\n",
       "                            address  \n",
       "0           Rennweg 30, 8001 Zürich  \n",
       "1   Bellariastrasse 56, 8038 Zürich  \n",
       "2    Kleinertstrasse 2, 8037 Zürich  \n",
       "3  Langmauerstrasse 25, 8006 Zürich  \n",
       "4      Hohlstrasse 486, 8048 Zürich  "
      ]
     },
     "execution_count": 52,
     "metadata": {},
     "output_type": "execute_result"
    }
   ],
   "source": [
    "df.head()\n"
   ]
  },
  {
   "cell_type": "code",
   "execution_count": 53,
   "id": "c5dd2a0b",
   "metadata": {
    "tags": []
   },
   "outputs": [
    {
     "name": "stdout",
     "output_type": "stream",
     "text": [
      "<class 'pandas.core.frame.DataFrame'>\n",
      "RangeIndex: 799 entries, 0 to 798\n",
      "Data columns (total 4 columns):\n",
      " #   Column   Non-Null Count  Dtype \n",
      "---  ------   --------------  ----- \n",
      " 0   price    799 non-null    object\n",
      " 1   size     635 non-null    object\n",
      " 2   rooms    790 non-null    object\n",
      " 3   address  799 non-null    object\n",
      "dtypes: object(4)\n",
      "memory usage: 25.1+ KB\n"
     ]
    }
   ],
   "source": [
    "df.info()"
   ]
  },
  {
   "cell_type": "code",
   "execution_count": 54,
   "id": "79e5999c",
   "metadata": {
    "tags": []
   },
   "outputs": [
    {
     "data": {
      "text/plain": [
       "(799, 4)"
      ]
     },
     "execution_count": 54,
     "metadata": {},
     "output_type": "execute_result"
    }
   ],
   "source": [
    "df.shape"
   ]
  },
  {
   "cell_type": "code",
   "execution_count": 55,
   "id": "48ec7eee",
   "metadata": {
    "tags": []
   },
   "outputs": [
    {
     "name": "stdout",
     "output_type": "stream",
     "text": [
      "Price\n",
      "Size\n",
      "Rooms\n",
      "Address\n"
     ]
    }
   ],
   "source": [
    "df.columns = df.columns.str.title()\n",
    "for col in df.columns:\n",
    "    print(col)"
   ]
  },
  {
   "cell_type": "code",
   "execution_count": 56,
   "id": "458dbe9e",
   "metadata": {
    "tags": []
   },
   "outputs": [
    {
     "data": {
      "text/html": [
       "<div>\n",
       "<style scoped>\n",
       "    .dataframe tbody tr th:only-of-type {\n",
       "        vertical-align: middle;\n",
       "    }\n",
       "\n",
       "    .dataframe tbody tr th {\n",
       "        vertical-align: top;\n",
       "    }\n",
       "\n",
       "    .dataframe thead th {\n",
       "        text-align: right;\n",
       "    }\n",
       "</style>\n",
       "<table border=\"1\" class=\"dataframe\">\n",
       "  <thead>\n",
       "    <tr style=\"text-align: right;\">\n",
       "      <th></th>\n",
       "      <th>Rent</th>\n",
       "      <th>SurfaceArea</th>\n",
       "      <th>RoomsNumber</th>\n",
       "      <th>Address</th>\n",
       "    </tr>\n",
       "  </thead>\n",
       "  <tbody>\n",
       "    <tr>\n",
       "      <th>0</th>\n",
       "      <td>CHF 3,110.– / month</td>\n",
       "      <td>96m² living space</td>\n",
       "      <td>4.5 rooms</td>\n",
       "      <td>Rennweg 30, 8001 Zürich</td>\n",
       "    </tr>\n",
       "    <tr>\n",
       "      <th>1</th>\n",
       "      <td>CHF 6,210.– / month</td>\n",
       "      <td>140m² living space</td>\n",
       "      <td>5.5 rooms</td>\n",
       "      <td>Bellariastrasse 56, 8038 Zürich</td>\n",
       "    </tr>\n",
       "    <tr>\n",
       "      <th>2</th>\n",
       "      <td>CHF 5,440.– / month</td>\n",
       "      <td>156m² living space</td>\n",
       "      <td>5.5 rooms</td>\n",
       "      <td>Kleinertstrasse 2, 8037 Zürich</td>\n",
       "    </tr>\n",
       "    <tr>\n",
       "      <th>3</th>\n",
       "      <td>CHF 1,820.– / month</td>\n",
       "      <td>48m² living space</td>\n",
       "      <td>3.5 rooms</td>\n",
       "      <td>Langmauerstrasse 25, 8006 Zürich</td>\n",
       "    </tr>\n",
       "    <tr>\n",
       "      <th>4</th>\n",
       "      <td>CHF 2,520.– / month</td>\n",
       "      <td>58m² living space</td>\n",
       "      <td>3 rooms</td>\n",
       "      <td>Hohlstrasse 486, 8048 Zürich</td>\n",
       "    </tr>\n",
       "    <tr>\n",
       "      <th>...</th>\n",
       "      <td>...</td>\n",
       "      <td>...</td>\n",
       "      <td>...</td>\n",
       "      <td>...</td>\n",
       "    </tr>\n",
       "    <tr>\n",
       "      <th>794</th>\n",
       "      <td>CHF 170.– / month</td>\n",
       "      <td>NaN</td>\n",
       "      <td>NaN</td>\n",
       "      <td>8004 Zürich</td>\n",
       "    </tr>\n",
       "    <tr>\n",
       "      <th>795</th>\n",
       "      <td>CHF 1,180.– / month</td>\n",
       "      <td>NaN</td>\n",
       "      <td>NaN</td>\n",
       "      <td>8046 Zürich</td>\n",
       "    </tr>\n",
       "    <tr>\n",
       "      <th>796</th>\n",
       "      <td>CHF 3,460.– / month</td>\n",
       "      <td>NaN</td>\n",
       "      <td>137m² living space</td>\n",
       "      <td>Schauenbergstrasse 30, 8046 Zürich</td>\n",
       "    </tr>\n",
       "    <tr>\n",
       "      <th>797</th>\n",
       "      <td>CHF 5,160.– / month</td>\n",
       "      <td>160m² living space</td>\n",
       "      <td>5.5 rooms</td>\n",
       "      <td>Schauenbergstrasse 32, 8046 Zürich</td>\n",
       "    </tr>\n",
       "    <tr>\n",
       "      <th>798</th>\n",
       "      <td>CHF 2,810.– / month</td>\n",
       "      <td>NaN</td>\n",
       "      <td>5 rooms</td>\n",
       "      <td>8055 Zürich</td>\n",
       "    </tr>\n",
       "  </tbody>\n",
       "</table>\n",
       "<p>799 rows × 4 columns</p>\n",
       "</div>"
      ],
      "text/plain": [
       "                     Rent          SurfaceArea          RoomsNumber  \\\n",
       "0     CHF 3,110.– / month   96m² living space            4.5 rooms    \n",
       "1     CHF 6,210.– / month  140m² living space            5.5 rooms    \n",
       "2     CHF 5,440.– / month  156m² living space            5.5 rooms    \n",
       "3     CHF 1,820.– / month   48m² living space            3.5 rooms    \n",
       "4     CHF 2,520.– / month   58m² living space              3 rooms    \n",
       "..                    ...                  ...                  ...   \n",
       "794     CHF 170.– / month                  NaN                  NaN   \n",
       "795   CHF 1,180.– / month                  NaN                  NaN   \n",
       "796   CHF 3,460.– / month                  NaN  137m² living space    \n",
       "797   CHF 5,160.– / month  160m² living space            5.5 rooms    \n",
       "798   CHF 2,810.– / month                  NaN             5 rooms    \n",
       "\n",
       "                                Address  \n",
       "0               Rennweg 30, 8001 Zürich  \n",
       "1       Bellariastrasse 56, 8038 Zürich  \n",
       "2        Kleinertstrasse 2, 8037 Zürich  \n",
       "3      Langmauerstrasse 25, 8006 Zürich  \n",
       "4          Hohlstrasse 486, 8048 Zürich  \n",
       "..                                  ...  \n",
       "794                         8004 Zürich  \n",
       "795                         8046 Zürich  \n",
       "796  Schauenbergstrasse 30, 8046 Zürich  \n",
       "797  Schauenbergstrasse 32, 8046 Zürich  \n",
       "798                         8055 Zürich  \n",
       "\n",
       "[799 rows x 4 columns]"
      ]
     },
     "execution_count": 56,
     "metadata": {},
     "output_type": "execute_result"
    }
   ],
   "source": [
    "df.rename(columns = {'Price':'Rent','Size':'SurfaceArea','Rooms':'RoomsNumber'}, inplace = True)\n",
    "df\n"
   ]
  },
  {
   "cell_type": "code",
   "execution_count": 57,
   "id": "484fc762",
   "metadata": {
    "tags": []
   },
   "outputs": [
    {
     "data": {
      "text/plain": [
       "0       CHF 3,110.– / month\n",
       "1       CHF 6,210.– / month\n",
       "2       CHF 5,440.– / month\n",
       "3       CHF 1,820.– / month\n",
       "4       CHF 2,520.– / month\n",
       "               ...         \n",
       "794       CHF 170.– / month\n",
       "795     CHF 1,180.– / month\n",
       "796     CHF 3,460.– / month\n",
       "797     CHF 5,160.– / month\n",
       "798     CHF 2,810.– / month\n",
       "Name: Rent, Length: 799, dtype: object"
      ]
     },
     "execution_count": 57,
     "metadata": {},
     "output_type": "execute_result"
    }
   ],
   "source": [
    "#Checking rent column\n",
    "df.iloc[:,0]"
   ]
  },
  {
   "cell_type": "code",
   "execution_count": 58,
   "id": "ee84b2d7",
   "metadata": {
    "tags": []
   },
   "outputs": [
    {
     "name": "stdout",
     "output_type": "stream",
     "text": [
      "       Rent          SurfaceArea          RoomsNumber  \\\n",
      "0    3110.0   96m² living space            4.5 rooms    \n",
      "1    6210.0  140m² living space            5.5 rooms    \n",
      "2    5440.0  156m² living space            5.5 rooms    \n",
      "3    1820.0   48m² living space            3.5 rooms    \n",
      "4    2520.0   58m² living space              3 rooms    \n",
      "..      ...                  ...                  ...   \n",
      "794   170.0                  NaN                  NaN   \n",
      "795  1180.0                  NaN                  NaN   \n",
      "796  3460.0                  NaN  137m² living space    \n",
      "797  5160.0  160m² living space            5.5 rooms    \n",
      "798  2810.0                  NaN             5 rooms    \n",
      "\n",
      "                                Address  \n",
      "0               Rennweg 30, 8001 Zürich  \n",
      "1       Bellariastrasse 56, 8038 Zürich  \n",
      "2        Kleinertstrasse 2, 8037 Zürich  \n",
      "3      Langmauerstrasse 25, 8006 Zürich  \n",
      "4          Hohlstrasse 486, 8048 Zürich  \n",
      "..                                  ...  \n",
      "794                         8004 Zürich  \n",
      "795                         8046 Zürich  \n",
      "796  Schauenbergstrasse 30, 8046 Zürich  \n",
      "797  Schauenbergstrasse 32, 8046 Zürich  \n",
      "798                         8055 Zürich  \n",
      "\n",
      "[799 rows x 4 columns]\n"
     ]
    }
   ],
   "source": [
    "# Remove non-numeric characters except for the comma\n",
    "df['Rent'] = df['Rent'].str.replace(r'[^\\d,]', '', regex=True) # can be found online\n",
    "\n",
    "# Remove commas\n",
    "df['Rent'] = df['Rent'].str.replace(',', '')\n",
    "\n",
    "# Convert to float, coercing errors to NaN\n",
    "df['Rent'] = pd.to_numeric(df['Rent'], errors='coerce')\n",
    "\n",
    "print(df)"
   ]
  },
  {
   "cell_type": "code",
   "execution_count": 59,
   "id": "a5eb0c51",
   "metadata": {
    "tags": []
   },
   "outputs": [
    {
     "name": "stdout",
     "output_type": "stream",
     "text": [
      "       Rent  SurfaceArea          RoomsNumber  \\\n",
      "0    3110.0         96.0           4.5 rooms    \n",
      "1    6210.0        140.0           5.5 rooms    \n",
      "2    5440.0        156.0           5.5 rooms    \n",
      "3    1820.0         48.0           3.5 rooms    \n",
      "4    2520.0         58.0             3 rooms    \n",
      "..      ...          ...                  ...   \n",
      "794   170.0          NaN                  NaN   \n",
      "795  1180.0          NaN                  NaN   \n",
      "796  3460.0          NaN  137m² living space    \n",
      "797  5160.0        160.0           5.5 rooms    \n",
      "798  2810.0          NaN             5 rooms    \n",
      "\n",
      "                                Address  \n",
      "0               Rennweg 30, 8001 Zürich  \n",
      "1       Bellariastrasse 56, 8038 Zürich  \n",
      "2        Kleinertstrasse 2, 8037 Zürich  \n",
      "3      Langmauerstrasse 25, 8006 Zürich  \n",
      "4          Hohlstrasse 486, 8048 Zürich  \n",
      "..                                  ...  \n",
      "794                         8004 Zürich  \n",
      "795                         8046 Zürich  \n",
      "796  Schauenbergstrasse 30, 8046 Zürich  \n",
      "797  Schauenbergstrasse 32, 8046 Zürich  \n",
      "798                         8055 Zürich  \n",
      "\n",
      "[799 rows x 4 columns]\n"
     ]
    }
   ],
   "source": [
    "# Remove non-numeric characters\n",
    "df['SurfaceArea'] = df['SurfaceArea'].str.replace(r'[^\\d]', '', regex=True)\n",
    "\n",
    "# Convert to float, coercing errors to NaN\n",
    "df['SurfaceArea'] = pd.to_numeric(df['SurfaceArea'], errors='coerce')\n",
    "\n",
    "print(df)"
   ]
  },
  {
   "cell_type": "code",
   "execution_count": 60,
   "id": "d6b5e084",
   "metadata": {
    "tags": []
   },
   "outputs": [
    {
     "name": "stdout",
     "output_type": "stream",
     "text": [
      "       Rent  SurfaceArea  RoomsNumber                             Address\n",
      "0    3110.0         96.0          4.5             Rennweg 30, 8001 Zürich\n",
      "1    6210.0        140.0          5.5     Bellariastrasse 56, 8038 Zürich\n",
      "2    5440.0        156.0          5.5      Kleinertstrasse 2, 8037 Zürich\n",
      "3    1820.0         48.0          3.5    Langmauerstrasse 25, 8006 Zürich\n",
      "4    2520.0         58.0          3.0        Hohlstrasse 486, 8048 Zürich\n",
      "..      ...          ...          ...                                 ...\n",
      "794   170.0          NaN          NaN                         8004 Zürich\n",
      "795  1180.0          NaN          NaN                         8046 Zürich\n",
      "796  3460.0          NaN        137.0  Schauenbergstrasse 30, 8046 Zürich\n",
      "797  5160.0        160.0          5.5  Schauenbergstrasse 32, 8046 Zürich\n",
      "798  2810.0          NaN          5.0                         8055 Zürich\n",
      "\n",
      "[799 rows x 4 columns]\n"
     ]
    }
   ],
   "source": [
    "# Extract the numeric part and convert to float\n",
    "df['RoomsNumber'] = df['RoomsNumber'].str.extract(r'(\\d+\\.?\\d*)').astype(float)\n",
    "\n",
    "# Note: The regex (\\d+\\.?\\d*) captures:\n",
    "# \\d+ - One or more digits\n",
    "# \\.? - An optional decimal point\n",
    "# \\d* - Zero or more digits following the decimal point\n",
    "\n",
    "print(df)"
   ]
  },
  {
   "cell_type": "code",
   "execution_count": 61,
   "id": "5c799ba9",
   "metadata": {
    "tags": []
   },
   "outputs": [
    {
     "data": {
      "text/plain": [
       "0                 Rennweg 30, 8001 Zurich\n",
       "1         Bellariastrasse 56, 8038 Zurich\n",
       "2          Kleinertstrasse 2, 8037 Zurich\n",
       "3        Langmauerstrasse 25, 8006 Zurich\n",
       "4            Hohlstrasse 486, 8048 Zurich\n",
       "                      ...                \n",
       "794                           8004 Zurich\n",
       "795                           8046 Zurich\n",
       "796    Schauenbergstrasse 30, 8046 Zurich\n",
       "797    Schauenbergstrasse 32, 8046 Zurich\n",
       "798                           8055 Zurich\n",
       "Name: Address, Length: 799, dtype: object"
      ]
     },
     "execution_count": 61,
     "metadata": {},
     "output_type": "execute_result"
    }
   ],
   "source": [
    "df['Address']=df['Address'].str.replace('Zürich','Zurich') # not necessary - umlaut remove \n",
    "df['Address']"
   ]
  },
  {
   "cell_type": "code",
   "execution_count": 62,
   "id": "fb281f42",
   "metadata": {
    "tags": []
   },
   "outputs": [
    {
     "data": {
      "text/plain": [
       "Rent             9\n",
       "SurfaceArea    164\n",
       "RoomsNumber      9\n",
       "Address          0\n",
       "dtype: int64"
      ]
     },
     "execution_count": 62,
     "metadata": {},
     "output_type": "execute_result"
    }
   ],
   "source": [
    "# checking missing values, we do observe Rent, SurfaceArea, and NumRooms contain NAs\n",
    "\n",
    "df.isnull()\n",
    "df.isnull().sum()"
   ]
  },
  {
   "cell_type": "code",
   "execution_count": 73,
   "id": "90452bfa",
   "metadata": {
    "tags": []
   },
   "outputs": [],
   "source": [
    "# We drop the missing values and NaNs in rows.\n",
    "df.dropna(subset=['Rent','SurfaceArea','RoomsNumber'],inplace=True)"
   ]
  },
  {
   "cell_type": "markdown",
   "id": "baba6da7",
   "metadata": {
    "tags": []
   },
   "source": [
    "# ----------------------------------------------------------"
   ]
  },
  {
   "cell_type": "markdown",
   "id": "e3bd267e",
   "metadata": {},
   "source": [
    "## new features"
   ]
  },
  {
   "cell_type": "code",
   "execution_count": 15,
   "id": "6438ada5",
   "metadata": {
    "tags": []
   },
   "outputs": [],
   "source": [
    "df['RentPerArea'] = df['Rent'] / df['SurfaceArea'] # ratio rent / surface area\n",
    "df['RentPerRoom'] = df['Rent'] / df['RoomsNumber'] # ratio rent / room number\n",
    "df['AreaPerRoom'] = df['SurfaceArea'] / df['RoomsNumber'] # ratio Surfave area /room numebr"
   ]
  },
  {
   "cell_type": "code",
   "execution_count": 16,
   "id": "c76979f3",
   "metadata": {
    "tags": []
   },
   "outputs": [
    {
     "data": {
      "text/plain": [
       "<Axes: >"
      ]
     },
     "execution_count": 16,
     "metadata": {},
     "output_type": "execute_result"
    },
    {
     "data": {
      "image/png": "[encoded data removed]",
      "text/plain": [
       "<Figure size 640x480 with 1 Axes>"
      ]
     },
     "metadata": {},
     "output_type": "display_data"
    }
   ],
   "source": [
    "import matplotlib.pyplot as plt\n",
    "\n",
    "df.boxplot(rot = 45)"
   ]
  },
  {
   "cell_type": "code",
   "execution_count": 17,
   "id": "76292085",
   "metadata": {
    "tags": []
   },
   "outputs": [],
   "source": [
    "def get_whiskers(df, col, WHIS):\n",
    "    des = df.describe()\n",
    "    q1 = des[col]['25%']\n",
    "    q3 = des[col]['75%']\n",
    "    iqr = q3 - q1\n",
    "    return [q1 - WHIS * iqr, q3 + WHIS * iqr]"
   ]
  },
  {
   "cell_type": "code",
   "execution_count": 18,
   "id": "9512918b",
   "metadata": {
    "tags": []
   },
   "outputs": [
    {
     "data": {
      "text/plain": [
       "<Axes: >"
      ]
     },
     "execution_count": 18,
     "metadata": {},
     "output_type": "execute_result"
    }
   ],
   "source": [
    "## Surface Area outliers\n",
    "df[['SurfaceArea']].boxplot()"
   ]
  },
  {
   "cell_type": "code",
   "execution_count": 19,
   "id": "9750f4ac",
   "metadata": {
    "tags": []
   },
   "outputs": [
    {
     "data": {
      "text/plain": [
       "[-136.75, 395.25]"
      ]
     },
     "execution_count": 19,
     "metadata": {},
     "output_type": "execute_result"
    }
   ],
   "source": [
    "# WHIS value is adjusted based on the manual study of the outliers\n",
    "area_whiskers = get_whiskers(df, 'SurfaceArea', WHIS=3.5)  \n",
    "area_whiskers"
   ]
  },
  {
   "cell_type": "code",
   "execution_count": 20,
   "id": "9d5c50c8",
   "metadata": {
    "tags": []
   },
   "outputs": [
    {
     "data": {
      "text/plain": [
       "1"
      ]
     },
     "execution_count": 20,
     "metadata": {},
     "output_type": "execute_result"
    }
   ],
   "source": [
    "# how many area outliers?\n",
    "area_outliers = (df['SurfaceArea'] > area_whiskers[1]) | (df['SurfaceArea'] < area_whiskers[0])\n",
    "area_outliers.sum() "
   ]
  },
  {
   "cell_type": "code",
   "execution_count": 21,
   "id": "19a89d48",
   "metadata": {
    "tags": []
   },
   "outputs": [
    {
     "data": {
      "text/html": [
       "<div>\n",
       "<style scoped>\n",
       "    .dataframe tbody tr th:only-of-type {\n",
       "        vertical-align: middle;\n",
       "    }\n",
       "\n",
       "    .dataframe tbody tr th {\n",
       "        vertical-align: top;\n",
       "    }\n",
       "\n",
       "    .dataframe thead th {\n",
       "        text-align: right;\n",
       "    }\n",
       "</style>\n",
       "<table border=\"1\" class=\"dataframe\">\n",
       "  <thead>\n",
       "    <tr style=\"text-align: right;\">\n",
       "      <th></th>\n",
       "      <th>Rent</th>\n",
       "      <th>SurfaceArea</th>\n",
       "      <th>RoomsNumber</th>\n",
       "      <th>Address</th>\n",
       "      <th>RentPerArea</th>\n",
       "      <th>RentPerRoom</th>\n",
       "      <th>AreaPerRoom</th>\n",
       "    </tr>\n",
       "  </thead>\n",
       "  <tbody>\n",
       "    <tr>\n",
       "      <th>237</th>\n",
       "      <td>17440.0</td>\n",
       "      <td>550.0</td>\n",
       "      <td>7.5</td>\n",
       "      <td>Bäckerstrasse 40, 8004 Zurich</td>\n",
       "      <td>31.709091</td>\n",
       "      <td>2325.333333</td>\n",
       "      <td>73.333333</td>\n",
       "    </tr>\n",
       "  </tbody>\n",
       "</table>\n",
       "</div>"
      ],
      "text/plain": [
       "        Rent  SurfaceArea  RoomsNumber                        Address  \\\n",
       "237  17440.0        550.0          7.5  Bäckerstrasse 40, 8004 Zurich   \n",
       "\n",
       "     RentPerArea  RentPerRoom  AreaPerRoom  \n",
       "237    31.709091  2325.333333    73.333333  "
      ]
     },
     "execution_count": 21,
     "metadata": {},
     "output_type": "execute_result"
    }
   ],
   "source": [
    "df[area_outliers]"
   ]
  },
  {
   "cell_type": "markdown",
   "id": "cddc626c",
   "metadata": {},
   "source": [
    "## Rent per Area Outliers:"
   ]
  },
  {
   "cell_type": "code",
   "execution_count": 22,
   "id": "a5a08a86",
   "metadata": {
    "tags": []
   },
   "outputs": [
    {
     "data": {
      "text/plain": [
       "[2.650793650793659, 72.74603174603173]"
      ]
     },
     "execution_count": 22,
     "metadata": {},
     "output_type": "execute_result"
    }
   ],
   "source": [
    "# it seems that having a price greater than 61CHF per m2 is not unusual for rooms for example.\n",
    "rentPerArea_whiskers = get_whiskers(df, 'RentPerArea', WHIS=1.5)\n",
    "rentPerArea_whiskers"
   ]
  },
  {
   "cell_type": "code",
   "execution_count": 23,
   "id": "341381b1",
   "metadata": {
    "tags": []
   },
   "outputs": [
    {
     "name": "stdout",
     "output_type": "stream",
     "text": [
      "52\n"
     ]
    },
    {
     "data": {
      "text/html": [
       "<div>\n",
       "<style scoped>\n",
       "    .dataframe tbody tr th:only-of-type {\n",
       "        vertical-align: middle;\n",
       "    }\n",
       "\n",
       "    .dataframe tbody tr th {\n",
       "        vertical-align: top;\n",
       "    }\n",
       "\n",
       "    .dataframe thead th {\n",
       "        text-align: right;\n",
       "    }\n",
       "</style>\n",
       "<table border=\"1\" class=\"dataframe\">\n",
       "  <thead>\n",
       "    <tr style=\"text-align: right;\">\n",
       "      <th></th>\n",
       "      <th>Rent</th>\n",
       "      <th>SurfaceArea</th>\n",
       "      <th>RoomsNumber</th>\n",
       "      <th>Address</th>\n",
       "      <th>RentPerArea</th>\n",
       "      <th>RentPerRoom</th>\n",
       "      <th>AreaPerRoom</th>\n",
       "    </tr>\n",
       "  </thead>\n",
       "  <tbody>\n",
       "    <tr>\n",
       "      <th>18</th>\n",
       "      <td>74550.0</td>\n",
       "      <td>152.0</td>\n",
       "      <td>6.5</td>\n",
       "      <td>8008 Zurich</td>\n",
       "      <td>490.460526</td>\n",
       "      <td>11469.230769</td>\n",
       "      <td>23.384615</td>\n",
       "    </tr>\n",
       "    <tr>\n",
       "      <th>106</th>\n",
       "      <td>1950.0</td>\n",
       "      <td>22.0</td>\n",
       "      <td>2.0</td>\n",
       "      <td>Schwamendingenstrasse 93, 8050 Zurich</td>\n",
       "      <td>88.636364</td>\n",
       "      <td>975.000000</td>\n",
       "      <td>11.000000</td>\n",
       "    </tr>\n",
       "    <tr>\n",
       "      <th>249</th>\n",
       "      <td>4790.0</td>\n",
       "      <td>63.0</td>\n",
       "      <td>3.5</td>\n",
       "      <td>Zweierstrasse 119, 8003 Zurich</td>\n",
       "      <td>76.031746</td>\n",
       "      <td>1368.571429</td>\n",
       "      <td>18.000000</td>\n",
       "    </tr>\n",
       "    <tr>\n",
       "      <th>302</th>\n",
       "      <td>3100.0</td>\n",
       "      <td>41.0</td>\n",
       "      <td>3.0</td>\n",
       "      <td>Hildastrasse 1, 8004 Zurich</td>\n",
       "      <td>75.609756</td>\n",
       "      <td>1033.333333</td>\n",
       "      <td>13.666667</td>\n",
       "    </tr>\n",
       "    <tr>\n",
       "      <th>315</th>\n",
       "      <td>5850.0</td>\n",
       "      <td>80.0</td>\n",
       "      <td>3.0</td>\n",
       "      <td>Wolframplatz 1, 8045 Zurich</td>\n",
       "      <td>73.125000</td>\n",
       "      <td>1950.000000</td>\n",
       "      <td>26.666667</td>\n",
       "    </tr>\n",
       "  </tbody>\n",
       "</table>\n",
       "</div>"
      ],
      "text/plain": [
       "        Rent  SurfaceArea  RoomsNumber                                Address  \\\n",
       "18   74550.0        152.0          6.5                            8008 Zurich   \n",
       "106   1950.0         22.0          2.0  Schwamendingenstrasse 93, 8050 Zurich   \n",
       "249   4790.0         63.0          3.5         Zweierstrasse 119, 8003 Zurich   \n",
       "302   3100.0         41.0          3.0            Hildastrasse 1, 8004 Zurich   \n",
       "315   5850.0         80.0          3.0            Wolframplatz 1, 8045 Zurich   \n",
       "\n",
       "     RentPerArea   RentPerRoom  AreaPerRoom  \n",
       "18    490.460526  11469.230769    23.384615  \n",
       "106    88.636364    975.000000    11.000000  \n",
       "249    76.031746   1368.571429    18.000000  \n",
       "302    75.609756   1033.333333    13.666667  \n",
       "315    73.125000   1950.000000    26.666667  "
      ]
     },
     "execution_count": 23,
     "metadata": {},
     "output_type": "execute_result"
    }
   ],
   "source": [
    "rentPerArea_outliers = (df['RentPerArea'] > rentPerArea_whiskers[1]) | (df['RentPerArea'] < rentPerArea_whiskers[0])\n",
    "print(rentPerArea_outliers.sum())\n",
    "df[rentPerArea_outliers].head()"
   ]
  },
  {
   "cell_type": "code",
   "execution_count": 24,
   "id": "7988136f",
   "metadata": {
    "tags": []
   },
   "outputs": [],
   "source": [
    "# Remove Rent per Area outliers to get proper statistical analysis of rent (especially mean)\n",
    "df = df.drop(df[rentPerArea_outliers].index).reset_index()"
   ]
  },
  {
   "cell_type": "code",
   "execution_count": 26,
   "id": "b672515c",
   "metadata": {
    "tags": []
   },
   "outputs": [
    {
     "data": {
      "text/plain": [
       "<matplotlib.collections.PathCollection at 0x13acae210>"
      ]
     },
     "execution_count": 26,
     "metadata": {},
     "output_type": "execute_result"
    }
   ],
   "source": [
    "# Plotting, majority gathered on price range 30-40CHF per m2, rental price of 2'500 CHF\n",
    "plt.scatter(x = df['RentPerArea'], y = df['Rent'])"
   ]
  },
  {
   "cell_type": "code",
   "execution_count": 27,
   "id": "cb93991c",
   "metadata": {
    "tags": []
   },
   "outputs": [
    {
     "data": {
      "text/html": [
       "<div>\n",
       "<style scoped>\n",
       "    .dataframe tbody tr th:only-of-type {\n",
       "        vertical-align: middle;\n",
       "    }\n",
       "\n",
       "    .dataframe tbody tr th {\n",
       "        vertical-align: top;\n",
       "    }\n",
       "\n",
       "    .dataframe thead th {\n",
       "        text-align: right;\n",
       "    }\n",
       "</style>\n",
       "<table border=\"1\" class=\"dataframe\">\n",
       "  <thead>\n",
       "    <tr style=\"text-align: right;\">\n",
       "      <th></th>\n",
       "      <th>index</th>\n",
       "      <th>Rent</th>\n",
       "      <th>SurfaceArea</th>\n",
       "      <th>RoomsNumber</th>\n",
       "      <th>RentPerArea</th>\n",
       "      <th>RentPerRoom</th>\n",
       "      <th>AreaPerRoom</th>\n",
       "    </tr>\n",
       "  </thead>\n",
       "  <tbody>\n",
       "    <tr>\n",
       "      <th>count</th>\n",
       "      <td>575.000000</td>\n",
       "      <td>575.000000</td>\n",
       "      <td>575.000000</td>\n",
       "      <td>575.000000</td>\n",
       "      <td>575.000000</td>\n",
       "      <td>575.000000</td>\n",
       "      <td>575.000000</td>\n",
       "    </tr>\n",
       "    <tr>\n",
       "      <th>mean</th>\n",
       "      <td>353.460870</td>\n",
       "      <td>4983.217391</td>\n",
       "      <td>140.450435</td>\n",
       "      <td>5.367826</td>\n",
       "      <td>36.613804</td>\n",
       "      <td>964.313245</td>\n",
       "      <td>26.976301</td>\n",
       "    </tr>\n",
       "    <tr>\n",
       "      <th>std</th>\n",
       "      <td>236.100968</td>\n",
       "      <td>2426.107904</td>\n",
       "      <td>52.832790</td>\n",
       "      <td>1.922703</td>\n",
       "      <td>11.788642</td>\n",
       "      <td>389.373207</td>\n",
       "      <td>8.094584</td>\n",
       "    </tr>\n",
       "    <tr>\n",
       "      <th>min</th>\n",
       "      <td>0.000000</td>\n",
       "      <td>630.000000</td>\n",
       "      <td>18.000000</td>\n",
       "      <td>2.000000</td>\n",
       "      <td>4.500000</td>\n",
       "      <td>148.000000</td>\n",
       "      <td>9.000000</td>\n",
       "    </tr>\n",
       "    <tr>\n",
       "      <th>25%</th>\n",
       "      <td>151.500000</td>\n",
       "      <td>3350.000000</td>\n",
       "      <td>112.000000</td>\n",
       "      <td>4.500000</td>\n",
       "      <td>28.175872</td>\n",
       "      <td>734.714286</td>\n",
       "      <td>22.666667</td>\n",
       "    </tr>\n",
       "    <tr>\n",
       "      <th>50%</th>\n",
       "      <td>309.000000</td>\n",
       "      <td>4460.000000</td>\n",
       "      <td>140.000000</td>\n",
       "      <td>5.000000</td>\n",
       "      <td>34.588235</td>\n",
       "      <td>900.000000</td>\n",
       "      <td>26.000000</td>\n",
       "    </tr>\n",
       "    <tr>\n",
       "      <th>75%</th>\n",
       "      <td>572.500000</td>\n",
       "      <td>5940.000000</td>\n",
       "      <td>167.000000</td>\n",
       "      <td>6.500000</td>\n",
       "      <td>43.025424</td>\n",
       "      <td>1093.333333</td>\n",
       "      <td>29.600000</td>\n",
       "    </tr>\n",
       "    <tr>\n",
       "      <th>max</th>\n",
       "      <td>798.000000</td>\n",
       "      <td>22360.000000</td>\n",
       "      <td>550.000000</td>\n",
       "      <td>11.500000</td>\n",
       "      <td>72.352941</td>\n",
       "      <td>3726.666667</td>\n",
       "      <td>94.500000</td>\n",
       "    </tr>\n",
       "  </tbody>\n",
       "</table>\n",
       "</div>"
      ],
      "text/plain": [
       "            index          Rent  SurfaceArea  RoomsNumber  RentPerArea  \\\n",
       "count  575.000000    575.000000   575.000000   575.000000   575.000000   \n",
       "mean   353.460870   4983.217391   140.450435     5.367826    36.613804   \n",
       "std    236.100968   2426.107904    52.832790     1.922703    11.788642   \n",
       "min      0.000000    630.000000    18.000000     2.000000     4.500000   \n",
       "25%    151.500000   3350.000000   112.000000     4.500000    28.175872   \n",
       "50%    309.000000   4460.000000   140.000000     5.000000    34.588235   \n",
       "75%    572.500000   5940.000000   167.000000     6.500000    43.025424   \n",
       "max    798.000000  22360.000000   550.000000    11.500000    72.352941   \n",
       "\n",
       "       RentPerRoom  AreaPerRoom  \n",
       "count   575.000000   575.000000  \n",
       "mean    964.313245    26.976301  \n",
       "std     389.373207     8.094584  \n",
       "min     148.000000     9.000000  \n",
       "25%     734.714286    22.666667  \n",
       "50%     900.000000    26.000000  \n",
       "75%    1093.333333    29.600000  \n",
       "max    3726.666667    94.500000  "
      ]
     },
     "execution_count": 27,
     "metadata": {},
     "output_type": "execute_result"
    }
   ],
   "source": [
    "## Some statistical info\n",
    "stats = df.describe()\n",
    "stats"
   ]
  },
  {
   "cell_type": "code",
   "execution_count": 28,
   "id": "d33f74cb",
   "metadata": {
    "tags": []
   },
   "outputs": [
    {
     "data": {
      "text/plain": [
       "4983.217391304348"
      ]
     },
     "execution_count": 28,
     "metadata": {},
     "output_type": "execute_result"
    }
   ],
   "source": [
    "stats['Rent']['mean']"
   ]
  },
  {
   "cell_type": "code",
   "execution_count": 120,
   "id": "5a809afb",
   "metadata": {
    "tags": []
   },
   "outputs": [
    {
     "data": {
      "text/plain": [
       "count      575.000000\n",
       "mean      4983.217391\n",
       "std       2426.107904\n",
       "min        630.000000\n",
       "25%       3350.000000\n",
       "50%       4460.000000\n",
       "75%       5940.000000\n",
       "max      22360.000000\n",
       "Name: Rent, dtype: float64"
      ]
     },
     "execution_count": 120,
     "metadata": {},
     "output_type": "execute_result"
    }
   ],
   "source": [
    "# The mean rental price in Zurich is 4983 (4983.217391) CHF per month.\n",
    "stats.Rent"
   ]
  },
  {
   "cell_type": "code",
   "execution_count": null,
   "id": "02e4196e-fb59-4288-b308-960f3a142168",
   "metadata": {},
   "outputs": [],
   "source": []
  }
 ],
 "metadata": {
  "kernelspec": {
   "display_name": "Python 3 (ipykernel)",
   "language": "python",
   "name": "python3"
  },
  "language_info": {
   "codemirror_mode": {
    "name": "ipython",
    "version": 3
   },
   "file_extension": ".py",
   "mimetype": "text/x-python",
   "name": "python",
   "nbconvert_exporter": "python",
   "pygments_lexer": "ipython3",
   "version": "3.11.5"
  }
 },
 "nbformat": 4,
 "nbformat_minor": 5
}
